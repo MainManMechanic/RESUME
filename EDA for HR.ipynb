{
 "cells": [
  {
   "cell_type": "code",
   "execution_count": 2,
   "metadata": {},
   "outputs": [
    {
     "name": "stdout",
     "output_type": "stream",
     "text": [
      "Hello, World and hopefully future employer! This is an attempt at an EDA concerning a HR dataset from Kaggle\n"
     ]
    }
   ],
   "source": [
    "print (\"Hello, World and hopefully future employer! This is an attempt at an EDA concerning a HR dataset from Kaggle\")"
   ]
  },
  {
   "cell_type": "code",
   "execution_count": 3,
   "metadata": {},
   "outputs": [],
   "source": [
    "import pandas as pd\n",
    "import matplotlib.pyplot as plt\n",
    "import seaborn as sns\n"
   ]
  },
  {
   "cell_type": "code",
   "execution_count": 4,
   "metadata": {},
   "outputs": [],
   "source": [
    "\n",
    "# Specify the file path\n",
    "file_path = \"/workspaces/codespaces-jupyter/HRDataset_v14(1)GenderEdit.csv\"\n",
    "\n",
    "# Read the dataset\n",
    "df = pd.read_csv(file_path)\n"
   ]
  },
  {
   "cell_type": "code",
   "execution_count": 5,
   "metadata": {},
   "outputs": [
    {
     "name": "stdout",
     "output_type": "stream",
     "text": [
      "First few rows of the DataFrame:\n",
      "              Employee_Name  EmpID  MarriedID  MaritalStatusID  GenderID  \\\n",
      "0       Adinolfi, Wilson  K  10026          0                0         1   \n",
      "1  Ait Sidi, Karthikeyan     10084          1                1         1   \n",
      "2         Akinkuolie, Sarah  10196          1                1         0   \n",
      "3              Alagbe,Trina  10088          1                1         0   \n",
      "4          Anderson, Carol   10069          0                2         0   \n",
      "\n",
      "   EmpStatusID  DeptID  PerfScoreID  FromDiversityJobFairID  Salary  ...  \\\n",
      "0            1       5            4                       0   62506  ...   \n",
      "1            5       3            3                       0  104437  ...   \n",
      "2            5       5            3                       0   64955  ...   \n",
      "3            1       5            3                       0   64991  ...   \n",
      "4            5       5            3                       0   50825  ...   \n",
      "\n",
      "      ManagerName  ManagerID RecruitmentSource PerformanceScore  \\\n",
      "0  Michael Albert       22.0          LinkedIn          Exceeds   \n",
      "1      Simon Roup        4.0            Indeed      Fully Meets   \n",
      "2  Kissy Sullivan       20.0          LinkedIn      Fully Meets   \n",
      "3    Elijiah Gray       16.0            Indeed      Fully Meets   \n",
      "4  Webster Butler       39.0     Google Search      Fully Meets   \n",
      "\n",
      "   EngagementSurvey EmpSatisfaction SpecialProjectsCount  \\\n",
      "0              4.60               5                    0   \n",
      "1              4.96               3                    6   \n",
      "2              3.02               3                    0   \n",
      "3              4.84               5                    0   \n",
      "4              5.00               4                    0   \n",
      "\n",
      "  LastPerformanceReview_Date DaysLateLast30 Absences  \n",
      "0                  1/17/2019              0        1  \n",
      "1                  2/24/2016              0       17  \n",
      "2                  5/15/2012              0        3  \n",
      "3                   1/3/2019              0       15  \n",
      "4                   2/1/2016              0        2  \n",
      "\n",
      "[5 rows x 36 columns]\n"
     ]
    }
   ],
   "source": [
    "# Display the first few rows of the dataset\n",
    "print(\"First few rows of the DataFrame:\")\n",
    "print(df.head())"
   ]
  },
  {
   "cell_type": "code",
   "execution_count": 6,
   "metadata": {},
   "outputs": [
    {
     "name": "stdout",
     "output_type": "stream",
     "text": [
      "              Employee_Name  EmpID  MarriedID  MaritalStatusID  GenderID  \\\n",
      "0       Adinolfi, Wilson  K  10026          0                0         1   \n",
      "1  Ait Sidi, Karthikeyan     10084          1                1         1   \n",
      "2         Akinkuolie, Sarah  10196          1                1         0   \n",
      "3              Alagbe,Trina  10088          1                1         0   \n",
      "4          Anderson, Carol   10069          0                2         0   \n",
      "\n",
      "   EmpStatusID  DeptID  PerfScoreID  FromDiversityJobFairID  Salary  Termd  \\\n",
      "0            1       5            4                       0   62506      0   \n",
      "1            5       3            3                       0  104437      1   \n",
      "2            5       5            3                       0   64955      1   \n",
      "3            1       5            3                       0   64991      0   \n",
      "4            5       5            3                       0   50825      1   \n",
      "\n",
      "   PositionID                  Position State   Zip       DOB Sex MaritalDesc  \\\n",
      "0          19   Production Technician I    MA  1960  07/10/83  M       Single   \n",
      "1          27                   Sr. DBA    MA  2148  05/05/75  M      Married   \n",
      "2          20  Production Technician II    MA  1810  09/19/88   F     Married   \n",
      "3          19   Production Technician I    MA  1886  09/27/88   F     Married   \n",
      "4          19   Production Technician I    MA  2169  09/08/89   F    Divorced   \n",
      "\n",
      "  CitizenDesc HispanicLatino RaceDesc DateofHire DateofTermination  \\\n",
      "0  US Citizen             No    White   7/5/2011               NaN   \n",
      "1  US Citizen             No    White  3/30/2015         6/16/2016   \n",
      "2  US Citizen             No    White   7/5/2011         9/24/2012   \n",
      "3  US Citizen             No    White   1/7/2008               NaN   \n",
      "4  US Citizen             No    White  7/11/2011          9/6/2016   \n",
      "\n",
      "          TermReason        EmploymentStatus         Department  \\\n",
      "0  N/A-StillEmployed                  Active  Production          \n",
      "1      career change  Voluntarily Terminated              IT/IS   \n",
      "2              hours  Voluntarily Terminated  Production          \n",
      "3  N/A-StillEmployed                  Active  Production          \n",
      "4   return to school  Voluntarily Terminated  Production          \n",
      "\n",
      "      ManagerName  ManagerID RecruitmentSource PerformanceScore  \\\n",
      "0  Michael Albert       22.0          LinkedIn          Exceeds   \n",
      "1      Simon Roup        4.0            Indeed      Fully Meets   \n",
      "2  Kissy Sullivan       20.0          LinkedIn      Fully Meets   \n",
      "3    Elijiah Gray       16.0            Indeed      Fully Meets   \n",
      "4  Webster Butler       39.0     Google Search      Fully Meets   \n",
      "\n",
      "   EngagementSurvey  EmpSatisfaction  SpecialProjectsCount  \\\n",
      "0              4.60                5                     0   \n",
      "1              4.96                3                     6   \n",
      "2              3.02                3                     0   \n",
      "3              4.84                5                     0   \n",
      "4              5.00                4                     0   \n",
      "\n",
      "  LastPerformanceReview_Date  DaysLateLast30  Absences  \n",
      "0                  1/17/2019               0         1  \n",
      "1                  2/24/2016               0        17  \n",
      "2                  5/15/2012               0         3  \n",
      "3                   1/3/2019               0        15  \n",
      "4                   2/1/2016               0         2  \n"
     ]
    }
   ],
   "source": [
    "#Gotta see the rest of these variables!\n",
    "pd.set_option('display.max_columns', None)\n",
    "print(df.head())"
   ]
  },
  {
   "cell_type": "code",
   "execution_count": 7,
   "metadata": {},
   "outputs": [
    {
     "name": "stdout",
     "output_type": "stream",
     "text": [
      "Summary statistics of the DataFrame:\n",
      "              EmpID   MarriedID  MaritalStatusID    GenderID  EmpStatusID  \\\n",
      "count    311.000000  311.000000       311.000000  311.000000   311.000000   \n",
      "mean   10156.000000    0.398714         0.810289    0.434084     2.392283   \n",
      "std       89.922189    0.490423         0.943239    0.496435     1.794383   \n",
      "min    10001.000000    0.000000         0.000000    0.000000     1.000000   \n",
      "25%    10078.500000    0.000000         0.000000    0.000000     1.000000   \n",
      "50%    10156.000000    0.000000         1.000000    0.000000     1.000000   \n",
      "75%    10233.500000    1.000000         1.000000    1.000000     5.000000   \n",
      "max    10311.000000    1.000000         4.000000    1.000000     5.000000   \n",
      "\n",
      "           DeptID  PerfScoreID  FromDiversityJobFairID         Salary  \\\n",
      "count  311.000000   311.000000              311.000000     311.000000   \n",
      "mean     4.610932     2.977492                0.093248   69020.684887   \n",
      "std      1.083487     0.587072                0.291248   25156.636930   \n",
      "min      1.000000     1.000000                0.000000   45046.000000   \n",
      "25%      5.000000     3.000000                0.000000   55501.500000   \n",
      "50%      5.000000     3.000000                0.000000   62810.000000   \n",
      "75%      5.000000     3.000000                0.000000   72036.000000   \n",
      "max      6.000000     4.000000                1.000000  250000.000000   \n",
      "\n",
      "            Termd  PositionID           Zip   ManagerID  EngagementSurvey  \\\n",
      "count  311.000000  311.000000    311.000000  303.000000        311.000000   \n",
      "mean     0.334405   16.845659   6555.482315   14.570957          4.110000   \n",
      "std      0.472542    6.223419  16908.396884    8.078306          0.789938   \n",
      "min      0.000000    1.000000   1013.000000    1.000000          1.120000   \n",
      "25%      0.000000   18.000000   1901.500000   10.000000          3.690000   \n",
      "50%      0.000000   19.000000   2132.000000   15.000000          4.280000   \n",
      "75%      1.000000   20.000000   2355.000000   19.000000          4.700000   \n",
      "max      1.000000   30.000000  98052.000000   39.000000          5.000000   \n",
      "\n",
      "       EmpSatisfaction  SpecialProjectsCount  DaysLateLast30    Absences  \n",
      "count       311.000000            311.000000      311.000000  311.000000  \n",
      "mean          3.890675              1.218650        0.414791   10.237942  \n",
      "std           0.909241              2.349421        1.294519    5.852596  \n",
      "min           1.000000              0.000000        0.000000    1.000000  \n",
      "25%           3.000000              0.000000        0.000000    5.000000  \n",
      "50%           4.000000              0.000000        0.000000   10.000000  \n",
      "75%           5.000000              0.000000        0.000000   15.000000  \n",
      "max           5.000000              8.000000        6.000000   20.000000  \n"
     ]
    }
   ],
   "source": [
    "# Summary statistics of the dataset\n",
    "print(\"Summary statistics of the DataFrame:\")\n",
    "print(df.describe())"
   ]
  },
  {
   "cell_type": "markdown",
   "metadata": {},
   "source": [
    "The statistics above imply that there is missing information in two variables : ManagerID and DateofTermination totally understandable but lets have a quick look at these variables."
   ]
  },
  {
   "cell_type": "code",
   "execution_count": 8,
   "metadata": {},
   "outputs": [
    {
     "name": "stdout",
     "output_type": "stream",
     "text": [
      "    DateofTermination  ManagerID\n",
      "0                 NaN       22.0\n",
      "1           6/16/2016        4.0\n",
      "2           9/24/2012       20.0\n",
      "3                 NaN       16.0\n",
      "4            9/6/2016       39.0\n",
      "..                ...        ...\n",
      "306               NaN       20.0\n",
      "307         9/29/2015       12.0\n",
      "308               NaN        2.0\n",
      "309               NaN        4.0\n",
      "310               NaN       14.0\n",
      "\n",
      "[311 rows x 2 columns]\n"
     ]
    }
   ],
   "source": [
    "# You can run the code to filter and display columns with less than the maximum count compared to the shape of the df\n",
    "column_max_count = df.count().max()\n",
    "columns_to_display = [col for col in df.columns if df[col].count() < column_max_count]\n",
    "\n",
    "# Display only the selected columns\n",
    "print(df[columns_to_display])\n"
   ]
  },
  {
   "cell_type": "markdown",
   "metadata": {},
   "source": [
    "Nulls for DateofTermination variable are indicative of terminated employees as there is no other variable indicating employment status within the company.\n",
    "Though if we created another variable it could be useful for a dashboard i.e. employed or not with company but this won't be important for now."
   ]
  },
  {
   "cell_type": "code",
   "execution_count": 9,
   "metadata": {},
   "outputs": [
    {
     "name": "stdout",
     "output_type": "stream",
     "text": [
      "          Employee_Name  EmpID  MarriedID  MaritalStatusID  GenderID  \\\n",
      "19        Becker, Scott  10277          0                0         1   \n",
      "30   Buccheri, Joseph    10184          0                0         1   \n",
      "44    Chang, Donovan  E  10154          0                0         1   \n",
      "88      Fancett, Nicole  10136          0                0         0   \n",
      "135     Hutter, Rosalie  10214          0                3         0   \n",
      "177   Manchester, Robyn  10077          1                1         0   \n",
      "232     Rivera, Haley    10011          1                1         0   \n",
      "251      Sewkumar, Nori  10071          0                0         0   \n",
      "\n",
      "     EmpStatusID  DeptID  PerfScoreID  FromDiversityJobFairID  Salary  Termd  \\\n",
      "19             3       5            3                       0   53250      0   \n",
      "30             1       5            3                       0   65288      0   \n",
      "44             1       5            3                       0   60380      0   \n",
      "88             1       5            3                       0   65902      0   \n",
      "135            2       5            3                       0   64995      0   \n",
      "177            2       5            3                       0   62385      0   \n",
      "232            1       5            4                       0   46738      0   \n",
      "251            3       5            3                       0   50923      0   \n",
      "\n",
      "     PositionID                  Position State   Zip       DOB Sex  \\\n",
      "19           19   Production Technician I    MA  2452  04/06/79  M    \n",
      "30           20  Production Technician II    MA  1013  07/28/83  M    \n",
      "44           19   Production Technician I    MA  1845  08/24/83  M    \n",
      "88           20  Production Technician II    MA  2324  09/27/87   F   \n",
      "135          20  Production Technician II    MA  2351  05/07/92   F   \n",
      "177          20  Production Technician II    MA  2324  08/25/76   F   \n",
      "232          19   Production Technician I    MA  2171  01/12/73   F   \n",
      "251          19   Production Technician I    MA  2191  03/10/75   F   \n",
      "\n",
      "    MaritalDesc CitizenDesc HispanicLatino                   RaceDesc  \\\n",
      "19       Single  US Citizen             No                      Asian   \n",
      "30       Single  US Citizen             No                      White   \n",
      "44       Single  US Citizen             No                      White   \n",
      "88       Single  US Citizen             No  Black or African American   \n",
      "135   Separated  US Citizen             No                      White   \n",
      "177     Married  US Citizen             No                      White   \n",
      "232     Married  US Citizen             No                      Asian   \n",
      "251      Single  US Citizen             No                      Asian   \n",
      "\n",
      "     DateofHire DateofTermination         TermReason EmploymentStatus  \\\n",
      "19     7/8/2013               NaN  N/A-StillEmployed           Active   \n",
      "30    9/29/2014               NaN  N/A-StillEmployed           Active   \n",
      "44     7/8/2013               NaN  N/A-StillEmployed           Active   \n",
      "88    2/17/2014               NaN  N/A-StillEmployed           Active   \n",
      "135    6/5/2015               NaN  N/A-StillEmployed           Active   \n",
      "177   5/11/2016               NaN  N/A-StillEmployed           Active   \n",
      "232  11/28/2011               NaN  N/A-StillEmployed           Active   \n",
      "251   9/30/2013               NaN  N/A-StillEmployed           Active   \n",
      "\n",
      "            Department     ManagerName  ManagerID RecruitmentSource  \\\n",
      "19   Production         Webster Butler        NaN          LinkedIn   \n",
      "30   Production         Webster Butler        NaN     Google Search   \n",
      "44   Production         Webster Butler        NaN          LinkedIn   \n",
      "88   Production         Webster Butler        NaN          LinkedIn   \n",
      "135  Production         Webster Butler        NaN            Indeed   \n",
      "177  Production         Webster Butler        NaN          LinkedIn   \n",
      "232  Production         Webster Butler        NaN     Google Search   \n",
      "251  Production         Webster Butler        NaN     Google Search   \n",
      "\n",
      "    PerformanceScore  EngagementSurvey  EmpSatisfaction  SpecialProjectsCount  \\\n",
      "19       Fully Meets              4.20                4                     0   \n",
      "30       Fully Meets              3.19                3                     0   \n",
      "44       Fully Meets              3.80                5                     0   \n",
      "88       Fully Meets              4.00                4                     0   \n",
      "135      Fully Meets              4.50                3                     0   \n",
      "177      Fully Meets              5.00                3                     0   \n",
      "232          Exceeds              4.36                5                     0   \n",
      "251      Fully Meets              5.00                5                     0   \n",
      "\n",
      "    LastPerformanceReview_Date  DaysLateLast30  Absences  \n",
      "19                   1/11/2019               0        13  \n",
      "30                    2/1/2019               0         9  \n",
      "44                   1/14/2019               0         4  \n",
      "88                    1/7/2019               0         7  \n",
      "135                  2/14/2019               0         6  \n",
      "177                  1/21/2019               0         4  \n",
      "232                  2/11/2019               0        16  \n",
      "251                   2/6/2019               0        14  \n"
     ]
    }
   ],
   "source": [
    "# Create a boolean mask to identify rows with missing ManagerID\n",
    "missing_manager_mask = df['ManagerID'].isna()\n",
    "\n",
    "# Use the mask to filter and display the rows with missing ManagerID\n",
    "rows_with_missing_manager = df[missing_manager_mask]\n",
    "\n",
    "# Display the rows\n",
    "print(rows_with_missing_manager)"
   ]
  },
  {
   "cell_type": "markdown",
   "metadata": {},
   "source": [
    "The missing ManagerID is interesting as i assume it is directly related to manager name. Let's check the manager names to see if they show up in the employee list."
   ]
  },
  {
   "cell_type": "code",
   "execution_count": 10,
   "metadata": {},
   "outputs": [
    {
     "name": "stdout",
     "output_type": "stream",
     "text": [
      "Empty DataFrame\n",
      "Columns: [Employee_Name, EmpID, MarriedID, MaritalStatusID, GenderID, EmpStatusID, DeptID, PerfScoreID, FromDiversityJobFairID, Salary, Termd, PositionID, Position, State, Zip, DOB, Sex, MaritalDesc, CitizenDesc, HispanicLatino, RaceDesc, DateofHire, DateofTermination, TermReason, EmploymentStatus, Department, ManagerName, ManagerID, RecruitmentSource, PerformanceScore, EngagementSurvey, EmpSatisfaction, SpecialProjectsCount, LastPerformanceReview_Date, DaysLateLast30, Absences]\n",
      "Index: []\n"
     ]
    }
   ],
   "source": [
    "# Create a boolean mask to identify rows with the name \"Webster Butler\"\n",
    "webster_butler_mask = df['Employee_Name'] == \"Butler, Webster\"\n",
    "\n",
    "# Use the mask to filter and display the row(s) with the name \"Webster Butler\"\n",
    "webster_butler_rows = df[webster_butler_mask]\n",
    "\n",
    "# Display the row(s)\n",
    "print(webster_butler_rows)\n"
   ]
  },
  {
   "cell_type": "markdown",
   "metadata": {},
   "source": [
    "No results lets try another."
   ]
  },
  {
   "cell_type": "code",
   "execution_count": 11,
   "metadata": {},
   "outputs": [
    {
     "name": "stdout",
     "output_type": "stream",
     "text": [
      "Empty DataFrame\n",
      "Columns: [Employee_Name, EmpID, MarriedID, MaritalStatusID, GenderID, EmpStatusID, DeptID, PerfScoreID, FromDiversityJobFairID, Salary, Termd, PositionID, Position, State, Zip, DOB, Sex, MaritalDesc, CitizenDesc, HispanicLatino, RaceDesc, DateofHire, DateofTermination, TermReason, EmploymentStatus, Department, ManagerName, ManagerID, RecruitmentSource, PerformanceScore, EngagementSurvey, EmpSatisfaction, SpecialProjectsCount, LastPerformanceReview_Date, DaysLateLast30, Absences]\n",
      "Index: []\n"
     ]
    }
   ],
   "source": [
    "#We returned an empty dataframe so we can try a different manager name\n",
    "webster_butler_mask = df['Employee_Name'] == \"Roup, Simon\"\n",
    "\n",
    "webster_butler_rows = df[webster_butler_mask]\n",
    "\n",
    "print(webster_butler_rows)\n"
   ]
  },
  {
   "cell_type": "markdown",
   "metadata": {},
   "source": [
    "Oops this is indicative that we don't have the info of the managers. However this is a good thing as we have learned something about the limits of this dataset and in analysis robust information can be key! Also it means we can move on!\n",
    "(Obviously if this was more professionally developed outside of personal use I would change the names of the mask to be less confusing but this is just to showcase EDA) "
   ]
  },
  {
   "cell_type": "markdown",
   "metadata": {},
   "source": [
    "There is also something else I have noticed, if we look to the genderID variables they are only 1 or 0, 1 seems to indicate male and the other female, in a real scenario we would probably have extra numbers as it is extrmely likely some people don't conform to these standards. Therefore lets do a quick switcheroo and change it to be more presentable. "
   ]
  },
  {
   "cell_type": "code",
   "execution_count": 12,
   "metadata": {},
   "outputs": [],
   "source": [
    "# Define a mapping for the replacement\n",
    "gender_mapping = {0: 'female', 1: 'male'}\n",
    "\n",
    "# Use the 'replace' method to perform the replacement\n",
    "df['GenderID'] = df['GenderID'].replace(gender_mapping)"
   ]
  },
  {
   "cell_type": "markdown",
   "metadata": {},
   "source": [
    "With this final line of code we can conclude this data is aboslutely clean though we are obviously missing some information. \n",
    "In the real world we would make sure that the data we have is appropriate for the task at hand, my task in this instance is to simply perform and EDA. If this information wasn't adequate we would delve into the data collection process or ask a higher up or stakeholder inr order to pull more rows of people."
   ]
  },
  {
   "cell_type": "code",
   "execution_count": 13,
   "metadata": {},
   "outputs": [
    {
     "name": "stdout",
     "output_type": "stream",
     "text": [
      "CSV file successfully saved/cleaned.\n"
     ]
    }
   ],
   "source": [
    "# Save the modified DataFrame to a new CSV file\n",
    "df.to_csv('HR_dataCleaned.csv', index=False)\n",
    "print(\"CSV file successfully saved/cleaned.\")"
   ]
  },
  {
   "cell_type": "markdown",
   "metadata": {},
   "source": [
    "Now that we have a nice clean dataset we can begin some analysis we already took a couple steps towards this such as creating a couple important data frames so lets just show them again."
   ]
  },
  {
   "cell_type": "code",
   "execution_count": 14,
   "metadata": {},
   "outputs": [
    {
     "name": "stdout",
     "output_type": "stream",
     "text": [
      "              Employee_Name  EmpID  MarriedID  MaritalStatusID GenderID  \\\n",
      "0       Adinolfi, Wilson  K  10026          0                0     male   \n",
      "1  Ait Sidi, Karthikeyan     10084          1                1     male   \n",
      "2         Akinkuolie, Sarah  10196          1                1   female   \n",
      "3              Alagbe,Trina  10088          1                1   female   \n",
      "4          Anderson, Carol   10069          0                2   female   \n",
      "\n",
      "   EmpStatusID  DeptID  PerfScoreID  FromDiversityJobFairID  Salary  Termd  \\\n",
      "0            1       5            4                       0   62506      0   \n",
      "1            5       3            3                       0  104437      1   \n",
      "2            5       5            3                       0   64955      1   \n",
      "3            1       5            3                       0   64991      0   \n",
      "4            5       5            3                       0   50825      1   \n",
      "\n",
      "   PositionID                  Position State   Zip       DOB Sex MaritalDesc  \\\n",
      "0          19   Production Technician I    MA  1960  07/10/83  M       Single   \n",
      "1          27                   Sr. DBA    MA  2148  05/05/75  M      Married   \n",
      "2          20  Production Technician II    MA  1810  09/19/88   F     Married   \n",
      "3          19   Production Technician I    MA  1886  09/27/88   F     Married   \n",
      "4          19   Production Technician I    MA  2169  09/08/89   F    Divorced   \n",
      "\n",
      "  CitizenDesc HispanicLatino RaceDesc DateofHire DateofTermination  \\\n",
      "0  US Citizen             No    White   7/5/2011               NaN   \n",
      "1  US Citizen             No    White  3/30/2015         6/16/2016   \n",
      "2  US Citizen             No    White   7/5/2011         9/24/2012   \n",
      "3  US Citizen             No    White   1/7/2008               NaN   \n",
      "4  US Citizen             No    White  7/11/2011          9/6/2016   \n",
      "\n",
      "          TermReason        EmploymentStatus         Department  \\\n",
      "0  N/A-StillEmployed                  Active  Production          \n",
      "1      career change  Voluntarily Terminated              IT/IS   \n",
      "2              hours  Voluntarily Terminated  Production          \n",
      "3  N/A-StillEmployed                  Active  Production          \n",
      "4   return to school  Voluntarily Terminated  Production          \n",
      "\n",
      "      ManagerName  ManagerID RecruitmentSource PerformanceScore  \\\n",
      "0  Michael Albert       22.0          LinkedIn          Exceeds   \n",
      "1      Simon Roup        4.0            Indeed      Fully Meets   \n",
      "2  Kissy Sullivan       20.0          LinkedIn      Fully Meets   \n",
      "3    Elijiah Gray       16.0            Indeed      Fully Meets   \n",
      "4  Webster Butler       39.0     Google Search      Fully Meets   \n",
      "\n",
      "   EngagementSurvey  EmpSatisfaction  SpecialProjectsCount  \\\n",
      "0              4.60                5                     0   \n",
      "1              4.96                3                     6   \n",
      "2              3.02                3                     0   \n",
      "3              4.84                5                     0   \n",
      "4              5.00                4                     0   \n",
      "\n",
      "  LastPerformanceReview_Date  DaysLateLast30  Absences  \n",
      "0                  1/17/2019               0         1  \n",
      "1                  2/24/2016               0        17  \n",
      "2                  5/15/2012               0         3  \n",
      "3                   1/3/2019               0        15  \n",
      "4                   2/1/2016               0         2  \n"
     ]
    }
   ],
   "source": [
    "pd.set_option('display.max_columns', None)\n",
    "print(df.head())\n"
   ]
  },
  {
   "cell_type": "code",
   "execution_count": 15,
   "metadata": {},
   "outputs": [
    {
     "name": "stdout",
     "output_type": "stream",
     "text": [
      "Summary statistics of the DataFrame:\n",
      "              EmpID   MarriedID  MaritalStatusID  EmpStatusID      DeptID  \\\n",
      "count    311.000000  311.000000       311.000000   311.000000  311.000000   \n",
      "mean   10156.000000    0.398714         0.810289     2.392283    4.610932   \n",
      "std       89.922189    0.490423         0.943239     1.794383    1.083487   \n",
      "min    10001.000000    0.000000         0.000000     1.000000    1.000000   \n",
      "25%    10078.500000    0.000000         0.000000     1.000000    5.000000   \n",
      "50%    10156.000000    0.000000         1.000000     1.000000    5.000000   \n",
      "75%    10233.500000    1.000000         1.000000     5.000000    5.000000   \n",
      "max    10311.000000    1.000000         4.000000     5.000000    6.000000   \n",
      "\n",
      "       PerfScoreID  FromDiversityJobFairID         Salary       Termd  \\\n",
      "count   311.000000              311.000000     311.000000  311.000000   \n",
      "mean      2.977492                0.093248   69020.684887    0.334405   \n",
      "std       0.587072                0.291248   25156.636930    0.472542   \n",
      "min       1.000000                0.000000   45046.000000    0.000000   \n",
      "25%       3.000000                0.000000   55501.500000    0.000000   \n",
      "50%       3.000000                0.000000   62810.000000    0.000000   \n",
      "75%       3.000000                0.000000   72036.000000    1.000000   \n",
      "max       4.000000                1.000000  250000.000000    1.000000   \n",
      "\n",
      "       PositionID           Zip   ManagerID  EngagementSurvey  \\\n",
      "count  311.000000    311.000000  303.000000        311.000000   \n",
      "mean    16.845659   6555.482315   14.570957          4.110000   \n",
      "std      6.223419  16908.396884    8.078306          0.789938   \n",
      "min      1.000000   1013.000000    1.000000          1.120000   \n",
      "25%     18.000000   1901.500000   10.000000          3.690000   \n",
      "50%     19.000000   2132.000000   15.000000          4.280000   \n",
      "75%     20.000000   2355.000000   19.000000          4.700000   \n",
      "max     30.000000  98052.000000   39.000000          5.000000   \n",
      "\n",
      "       EmpSatisfaction  SpecialProjectsCount  DaysLateLast30    Absences  \n",
      "count       311.000000            311.000000      311.000000  311.000000  \n",
      "mean          3.890675              1.218650        0.414791   10.237942  \n",
      "std           0.909241              2.349421        1.294519    5.852596  \n",
      "min           1.000000              0.000000        0.000000    1.000000  \n",
      "25%           3.000000              0.000000        0.000000    5.000000  \n",
      "50%           4.000000              0.000000        0.000000   10.000000  \n",
      "75%           5.000000              0.000000        0.000000   15.000000  \n",
      "max           5.000000              8.000000        6.000000   20.000000  \n"
     ]
    }
   ],
   "source": [
    "print(\"Summary statistics of the DataFrame:\")\n",
    "print(df.describe())"
   ]
  },
  {
   "cell_type": "code",
   "execution_count": 16,
   "metadata": {},
   "outputs": [
    {
     "data": {
      "image/png": "[encoded data removed]",
      "text/plain": [
       "<Figure size 640x480 with 1 Axes>"
      ]
     },
     "metadata": {},
     "output_type": "display_data"
    }
   ],
   "source": [
    "sns.histplot(df['Salary'], bins=20, kde=True)\n",
    "plt.title('Distribution of Salary')\n",
    "plt.show()"
   ]
  },
  {
   "cell_type": "markdown",
   "metadata": {},
   "source": [
    "From this we can more easily see the median range of salary for this company. Even though this is shown in the statistics via the describe function it is easier to see and interpret via a visualisation graph."
   ]
  },
  {
   "cell_type": "code",
   "execution_count": 17,
   "metadata": {},
   "outputs": [
    {
     "data": {
      "image/png": "[encoded data removed]",
      "text/plain": [
       "<Figure size 640x480 with 1 Axes>"
      ]
     },
     "metadata": {},
     "output_type": "display_data"
    }
   ],
   "source": [
    "sns.countplot(x='MaritalDesc', data=df)\n",
    "plt.title('Count of Employees by Marital Status')\n",
    "plt.show()\n"
   ]
  },
  {
   "cell_type": "code",
   "execution_count": null,
   "metadata": {},
   "outputs": [],
   "source": []
  }
 ],
 "metadata": {
  "kernelspec": {
   "display_name": "Python 3",
   "language": "python",
   "name": "python3"
  },
  "language_info": {
   "codemirror_mode": {
    "name": "ipython",
    "version": 3
   },
   "file_extension": ".py",
   "mimetype": "text/x-python",
   "name": "python",
   "nbconvert_exporter": "python",
   "pygments_lexer": "ipython3",
   "version": "3.10.8"
  }
 },
 "nbformat": 4,
 "nbformat_minor": 2
}
